{
  "nbformat": 4,
  "nbformat_minor": 0,
  "metadata": {
    "colab": {
      "provenance": [],
      "authorship_tag": "ABX9TyMhe4fr7r/RUD1AZMGDyZmq",
      "include_colab_link": true
    },
    "kernelspec": {
      "name": "python3",
      "display_name": "Python 3"
    },
    "language_info": {
      "name": "python"
    }
  },
  "cells": [
    {
      "cell_type": "markdown",
      "metadata": {
        "id": "view-in-github",
        "colab_type": "text"
      },
      "source": [
        "<a href=\"https://colab.research.google.com/github/FarahAbdo/NLP-/blob/main/Named%20Entity%20Recognition.ipynb\" target=\"_parent\"><img src=\"https://colab.research.google.com/assets/colab-badge.svg\" alt=\"Open In Colab\"/></a>"
      ]
    },
    {
      "cell_type": "code",
      "source": [
        "import nltk\n",
        "from  nltk.tokenize import sent_tokenize, word_tokenize\n",
        "import matplotlib.pyplot as plt"
      ],
      "metadata": {
        "id": "iysSva07iOxW"
      },
      "execution_count": 1,
      "outputs": []
    },
    {
      "cell_type": "code",
      "execution_count": 2,
      "metadata": {
        "id": "CgaXNcxygCgs"
      },
      "outputs": [],
      "source": [
        "article = '''\\ufeffThe taxi-hailing company Uber brings into very sharp focus the question of whether corporations \n",
        "can be said to have a moral character. If any human being were to behave with the single-minded and ruthless \n",
        "greed of the company, we would consider them sociopathic. Uber wanted to know as much as possible about the \n",
        "people who use its service, and those who don’t. It has an arrangement with unroll.me, a company which offered \n",
        "a free service for unsubscribing from junk mail, to buy the contacts unroll.me customers had had with rival taxi companies.\n",
        " Even if their email was notionally anonymised, this use of it was not something the users had bargained for. \n",
        " Beyond that, it keeps track of the phones that have been used to summon its services even after the original owner has sold them, \n",
        " attempting this with Apple’s phones even thought it is forbidden by the company.\\r\\n\\r\\n\\r\\nUber has also tweaked \n",
        " its software so that regulatory agencies that the company regarded as hostile would, when they tried to hire a driver, \n",
        " be given false reports about the location of its cars. Uber management booked and then cancelled rides with a rival taxi-hailing \n",
        " company which took their vehicles out of circulation. Uber deny this was the intention. The punishment for this behaviour was negligible. \n",
        " Uber promised not to use this “greyball” software against law enforcement – one wonders what would happen to someone \n",
        " carrying a knife who promised never to stab a policeman with it. Travis Kalanick of Uber got a personal dressing down from Tim Cook, \n",
        " who runs Apple, but the company did not prohibit the use of the app. Too much money was at stake for that.\n",
        " \\r\\n\\r\\n\\r\\nMillions of people around the world value the cheapness and convenience of Uber’s rides too much to care about \n",
        " the lack of drivers’ rights or pay. Many of the users themselves are not much richer than the drivers. \n",
        " The “sharing economy” encourages the insecure and exploited to exploit others equally insecure to the profit of a tiny clique of billionaires. \n",
        " Silicon Valley’s culture seems hostile to humane and democratic values. The outgoing CEO of Yahoo, Marissa Mayer, \n",
        " who is widely judged to have been a failure, is likely to get a $186m payout. This may not be a cause for panic, \n",
        " any more than the previous hero worship should have been a cause for euphoria. Yet there’s an urgent political task to tame these companies, \n",
        " to ensure they are punished when they break the law, that they pay their taxes fairly and that they behave responsibly.'''\n",
        "\n"
      ]
    },
    {
      "cell_type": "code",
      "source": [
        "nltk.download('punkt')\n",
        "nltk.download('stopwords')\n",
        "nltk.download('averaged_perceptron_tagger')\n",
        "nltk.download('maxent_ne_chunker')\n",
        "nltk.download('words')"
      ],
      "metadata": {
        "colab": {
          "base_uri": "https://localhost:8080/"
        },
        "id": "2nBewPQpjx2r",
        "outputId": "df1337a9-4023-4b42-ba3a-07fd6c084dc0"
      },
      "execution_count": 3,
      "outputs": [
        {
          "output_type": "stream",
          "name": "stderr",
          "text": [
            "[nltk_data] Downloading package punkt to /root/nltk_data...\n",
            "[nltk_data]   Unzipping tokenizers/punkt.zip.\n",
            "[nltk_data] Downloading package stopwords to /root/nltk_data...\n",
            "[nltk_data]   Unzipping corpora/stopwords.zip.\n",
            "[nltk_data] Downloading package averaged_perceptron_tagger to\n",
            "[nltk_data]     /root/nltk_data...\n",
            "[nltk_data]   Unzipping taggers/averaged_perceptron_tagger.zip.\n",
            "[nltk_data] Downloading package maxent_ne_chunker to\n",
            "[nltk_data]     /root/nltk_data...\n",
            "[nltk_data]   Unzipping chunkers/maxent_ne_chunker.zip.\n",
            "[nltk_data] Downloading package words to /root/nltk_data...\n",
            "[nltk_data]   Unzipping corpora/words.zip.\n"
          ]
        },
        {
          "output_type": "execute_result",
          "data": {
            "text/plain": [
              "True"
            ]
          },
          "metadata": {},
          "execution_count": 3
        }
      ]
    },
    {
      "cell_type": "code",
      "source": [
        "import nltk\n",
        "from  nltk.tokenize import sent_tokenize, word_tokenize\n",
        "\n",
        "# Tokenize the article into sentences: sentences\n",
        "sentences = nltk.sent_tokenize(article)\n",
        "\n",
        "# Tokenize each sentence into words: token_sentences\n",
        "token_sentences = [nltk.word_tokenize(sent) for sent in sentences]\n",
        "\n",
        "# Tag each tokenized sentence into parts of speech: pos_sentences\n",
        "pos_sentences = [nltk.pos_tag(sent) for sent in token_sentences] \n",
        "\n",
        "# Create the named entity chunks: chunked_sentences\n",
        "chunked_sentences = nltk.ne_chunk_sents(pos_sentences, binary=True)\n",
        "\n",
        "# Test for stems of the tree with 'NE' tags\n",
        "for sent in chunked_sentences:\n",
        "    for chunk in sent:\n",
        "        if hasattr(chunk, \"label\") and chunk.label() == \"NE\":\n",
        "            print(chunk)\n"
      ],
      "metadata": {
        "colab": {
          "base_uri": "https://localhost:8080/"
        },
        "id": "hWALf0X8jKi9",
        "outputId": "395b9381-4960-477a-f13c-7142860c6573"
      },
      "execution_count": 4,
      "outputs": [
        {
          "output_type": "stream",
          "name": "stdout",
          "text": [
            "(NE Uber/NNP)\n",
            "(NE Beyond/NN)\n",
            "(NE Apple/NNP)\n",
            "(NE Uber/NNP)\n",
            "(NE Uber/NNP)\n",
            "(NE Travis/NNP Kalanick/NNP)\n",
            "(NE Tim/NNP Cook/NNP)\n",
            "(NE Apple/NNP)\n",
            "(NE Silicon/NNP Valley/NNP)\n",
            "(NE CEO/NNP)\n",
            "(NE Yahoo/NNP)\n",
            "(NE Marissa/NNP Mayer/NNP)\n"
          ]
        }
      ]
    },
    {
      "cell_type": "markdown",
      "source": [
        "### Charting practice"
      ],
      "metadata": {
        "id": "fZW19ZYTmyCz"
      }
    },
    {
      "cell_type": "code",
      "source": [
        "!pip install matplotlib"
      ],
      "metadata": {
        "colab": {
          "base_uri": "https://localhost:8080/"
        },
        "id": "yiWIRV1pntjP",
        "outputId": "f837e87c-7c23-4cb8-a959-d655388d0683"
      },
      "execution_count": 5,
      "outputs": [
        {
          "output_type": "stream",
          "name": "stdout",
          "text": [
            "Looking in indexes: https://pypi.org/simple, https://us-python.pkg.dev/colab-wheels/public/simple/\n",
            "Requirement already satisfied: matplotlib in /usr/local/lib/python3.9/dist-packages (3.7.1)\n",
            "Requirement already satisfied: contourpy>=1.0.1 in /usr/local/lib/python3.9/dist-packages (from matplotlib) (1.0.7)\n",
            "Requirement already satisfied: pillow>=6.2.0 in /usr/local/lib/python3.9/dist-packages (from matplotlib) (8.4.0)\n",
            "Requirement already satisfied: packaging>=20.0 in /usr/local/lib/python3.9/dist-packages (from matplotlib) (23.1)\n",
            "Requirement already satisfied: cycler>=0.10 in /usr/local/lib/python3.9/dist-packages (from matplotlib) (0.11.0)\n",
            "Requirement already satisfied: python-dateutil>=2.7 in /usr/local/lib/python3.9/dist-packages (from matplotlib) (2.8.2)\n",
            "Requirement already satisfied: importlib-resources>=3.2.0 in /usr/local/lib/python3.9/dist-packages (from matplotlib) (5.12.0)\n",
            "Requirement already satisfied: pyparsing>=2.3.1 in /usr/local/lib/python3.9/dist-packages (from matplotlib) (3.0.9)\n",
            "Requirement already satisfied: kiwisolver>=1.0.1 in /usr/local/lib/python3.9/dist-packages (from matplotlib) (1.4.4)\n",
            "Requirement already satisfied: numpy>=1.20 in /usr/local/lib/python3.9/dist-packages (from matplotlib) (1.22.4)\n",
            "Requirement already satisfied: fonttools>=4.22.0 in /usr/local/lib/python3.9/dist-packages (from matplotlib) (4.39.3)\n",
            "Requirement already satisfied: zipp>=3.1.0 in /usr/local/lib/python3.9/dist-packages (from importlib-resources>=3.2.0->matplotlib) (3.15.0)\n",
            "Requirement already satisfied: six>=1.5 in /usr/local/lib/python3.9/dist-packages (from python-dateutil>=2.7->matplotlib) (1.16.0)\n"
          ]
        }
      ]
    },
    {
      "cell_type": "code",
      "source": [
        "# !pip install PyQt6"
      ],
      "metadata": {
        "id": "6U1KMBZqW0ZB"
      },
      "execution_count": 6,
      "outputs": []
    },
    {
      "cell_type": "code",
      "source": [
        "# import matplotlib\n",
        "# import tkinter\n",
        "# matplotlib.use(\"QtAgg\")\n",
        "# matplotlib.use('TKAgg')"
      ],
      "metadata": {
        "id": "FGwU390zW7CG"
      },
      "execution_count": 7,
      "outputs": []
    },
    {
      "cell_type": "markdown",
      "source": [
        "Use plt.pie() to create a pie chart for each of the NER categories. Along with values and labels=labels, pass the extra keyword arguments autopct='%1.1f%%' and startangle=140 to add percentages to the chart and rotate the initial start angle."
      ],
      "metadata": {
        "id": "exyeUhTlo4ep"
      }
    },
    {
      "cell_type": "code",
      "source": [
        "import collections\n",
        "# Create the defaultdict: ner_categories\n",
        "ner_categories = collections.defaultdict(int)\n",
        "# Create the nested for loop\n",
        "for sent in chunked_sentences:\n",
        "    for chunk in sent:\n",
        "        if hasattr(chunk, 'label'):\n",
        "            ner_categories[chunk.label()] += 1\n",
        "            \n",
        "# Create a list from the dictionary keys for the chart labels: labels\n",
        "labels = list(ner_categories.keys())\n",
        "\n",
        "# Create a list of the values: values\n",
        "values = [ner_categories.get(v) for v in labels]\n",
        "\n",
        "# Create the pie chart\n",
        "#plt.pie(values, labels=labels, autopct='%1.1f%%', startangle=140)\n",
        "\n",
        "# Display the chart\n",
        "#plt.show()\n"
      ],
      "metadata": {
        "id": "AjQWyXMRjXhN"
      },
      "execution_count": 42,
      "outputs": []
    },
    {
      "cell_type": "markdown",
      "source": [
        "### Comparing NLTK with spaCy NER"
      ],
      "metadata": {
        "id": "PFnDGpvFe56b"
      }
    },
    {
      "cell_type": "code",
      "source": [
        "# Import spacy\n",
        "import spacy\n",
        "\n",
        "# Instantiate the English model: nlp\n",
        "nlp = spacy.load('en_core_web_sm')\n",
        "\n",
        "# Create a new document: doc\n",
        "doc = nlp(article)\n",
        "\n",
        "# Print all of the found entities and their labels \n",
        "# This will iterate over the entities in the doc object and print out their labels and text.\n",
        "for ent in doc.ents:\n",
        "    print(ent.label_, ent.text)"
      ],
      "metadata": {
        "colab": {
          "base_uri": "https://localhost:8080/"
        },
        "id": "eBIH6LUzorZp",
        "outputId": "70701a17-7697-4436-a838-e85354cc39d0"
      },
      "execution_count": 9,
      "outputs": [
        {
          "output_type": "stream",
          "name": "stdout",
          "text": [
            "ORG Apple\n",
            "PERSON Uber\n",
            "PERSON Travis Kalanick\n",
            "ORG Uber\n",
            "PERSON Tim Cook\n",
            "ORG Apple\n",
            "CARDINAL Millions\n",
            "ORG Uber\n",
            "LOC Silicon Valley’s\n",
            "NORP democratic\n",
            "ORG Yahoo\n",
            "PERSON Marissa Mayer\n",
            "MONEY 186\n"
          ]
        }
      ]
    },
    {
      "cell_type": "markdown",
      "source": [
        "The doc object is not iterable, so you cannot use a for loop to iterate over it. you need to iterate over the entities in the doc object using the doc.ents attribute."
      ],
      "metadata": {
        "id": "lqfAPdmTjCkQ"
      }
    },
    {
      "cell_type": "markdown",
      "source": [
        "The label_ attribute is not available on the Token object, which is what ent is in this case. you need to access the label_ attribute on the ent object instead of the Token object."
      ],
      "metadata": {
        "id": "VJL7owM8jLxu"
      }
    },
    {
      "cell_type": "markdown",
      "source": [
        "### French NER with polyglot"
      ],
      "metadata": {
        "id": "S3gkzGRmsioU"
      }
    },
    {
      "cell_type": "code",
      "source": [
        "!pip install polyglot\n",
        "!pip install PyICU\n",
        "!pip install pycld2\n",
        "!pip install morfessor"
      ],
      "metadata": {
        "colab": {
          "base_uri": "https://localhost:8080/"
        },
        "id": "8DO0rBlCuc-m",
        "outputId": "5ca05ba1-c9d7-4ad5-f6de-6e0428fdeb80"
      },
      "execution_count": 14,
      "outputs": [
        {
          "output_type": "stream",
          "name": "stdout",
          "text": [
            "Looking in indexes: https://pypi.org/simple, https://us-python.pkg.dev/colab-wheels/public/simple/\n",
            "Requirement already satisfied: polyglot in /usr/local/lib/python3.9/dist-packages (16.7.4)\n",
            "Looking in indexes: https://pypi.org/simple, https://us-python.pkg.dev/colab-wheels/public/simple/\n",
            "Requirement already satisfied: PyICU in /usr/local/lib/python3.9/dist-packages (2.11)\n",
            "Looking in indexes: https://pypi.org/simple, https://us-python.pkg.dev/colab-wheels/public/simple/\n",
            "Requirement already satisfied: pycld2 in /usr/local/lib/python3.9/dist-packages (0.41)\n",
            "Looking in indexes: https://pypi.org/simple, https://us-python.pkg.dev/colab-wheels/public/simple/\n",
            "Collecting morfessor\n",
            "  Downloading Morfessor-2.0.6-py3-none-any.whl (35 kB)\n",
            "Installing collected packages: morfessor\n",
            "Successfully installed morfessor-2.0.6\n"
          ]
        }
      ]
    },
    {
      "cell_type": "code",
      "source": [
        "from polyglot.downloader import downloader\n",
        "print(downloader.supported_languages_table(\"pos2\"))"
      ],
      "metadata": {
        "colab": {
          "base_uri": "https://localhost:8080/"
        },
        "id": "0k76NjSFkRcX",
        "outputId": "ff884cf4-250c-4406-dccd-b2c5f4a17c3b"
      },
      "execution_count": 23,
      "outputs": [
        {
          "output_type": "stream",
          "name": "stdout",
          "text": [
            "  1. Italian                    2. French                     3. Spanish; Castilian       \n",
            "  4. Bulgarian                  5. Slovene                    6. Irish                    \n",
            "  7. Finnish                    8. Dutch                      9. Swedish                  \n",
            " 10. Danish                    11. Portuguese                12. English                  \n",
            " 13. German                    14. Indonesian                15. Czech                    \n",
            " 16. Hungarian                \n"
          ]
        }
      ]
    },
    {
      "cell_type": "code",
      "source": [
        "%%bash\n",
        "polyglot download embeddings2.fr\n",
        "polyglot download ner2.fr"
      ],
      "metadata": {
        "colab": {
          "base_uri": "https://localhost:8080/"
        },
        "id": "gTAFmbiNlJV8",
        "outputId": "e79b62c0-f62a-4517-d51c-4f521be3cfd0"
      },
      "execution_count": 31,
      "outputs": [
        {
          "output_type": "stream",
          "name": "stdout",
          "text": [
            "[polyglot_data] Downloading package embeddings2.fr to\n",
            "[polyglot_data]     /root/polyglot_data...\n",
            "[polyglot_data] Downloading package ner2.fr to /root/polyglot_data...\n"
          ]
        }
      ]
    },
    {
      "cell_type": "code",
      "source": [
        "article = '''\\ufeffédition abonné\\r\\n\\r\\n\\r\\nDans une tribune au « Monde »,\n",
        " l’universitaire Charles Cuvelliez estime que le fantasme d’un remplacement de l’homme par l’algorithme et le robot repose \n",
        " sur un malentendu.\\r\\n\\r\\n\\r\\nLe Monde | 10.05.2017 à 06h44 • Mis à jour le 10.05.2017 à 09h47 | Par Charles Cuvelliez \n",
        " (Professeur à l’Ecole polytechnique de l'université libre de Bruxelles)\\r\\n\\r\\n\\r\\nTRIBUNE. L’usage morbide, par certains, de Facebook \n",
        " Live a amené son fondateur à annoncer précipitamment le recrutement de 3 000 modérateurs supplémentaires. Il est vrai que l’intelligence \n",
        " artificielle (IA) est bien en peine de reconnaître des contenus violents, surtout diffusés en direct.\\r\\n\\r\\n\\r\\nLe quotidien affreux \n",
        " de ces modérateurs, contraints de visionner des horreurs à longueur de journée, mériterait pourtant qu’on les remplace vite par des \n",
        " machines !\\r\\n\\r\\n\\r\\nL’IA ne peut pas tout, mais là où elle peut beaucoup, on la maudit, accusée de détruire nos emplois, \n",
        " de remplacer la convivialité humaine. Ce débat repose sur un malentendu.\\r\\n\\r\\n\\r\\nIl vient d’une définition de l’IA qui n’a,\n",
        "  dans la réalité, jamais pu être mise en pratique : en 1955, elle était vue comme la création de programmes informatiques qui, \n",
        "  quoi qu’on leur confie, le feraient un jour mieux que les humains. On pensait que toute caractéristique de l’intelligence humaine\n",
        "   pourrait un jour être si précisément décrite qu’il suffirait d’une machine pour la simuler. Ce n’est pas vrai.\\r\\n\\r\\n\\r\\nAngoisses \n",
        "   infondées\\r\\n\\r\\n\\r\\nComme le dit un récent Livre blanc sur la question (Pourquoi il ne faut pas avoir peur de l’Intelligence \n",
        "   arti\\xadficielle, Julien Maldonato, Deloitte, mars 2017), rien ne pourra remplacer un humain dans sa globalité.\\r\\n\\r\\n\\r\\nL’IA, c’est de \n",
        "   l’apprentissage automatique doté d’un processus d’ajustement de modèles statistiques à des masses de données, explique l’auteur. \n",
        "   Il s’agit d’un apprentissage sur des paramètres pour lesquels une vision humaine n’explique pas pourquoi ils marchent si bien dans \n",
        "   un contexte donné.\\r\\n\\r\\n\\r\\nC’est aussi ce que dit le rapport de l’Office parlementaire d’évaluation des choix scientifiques et \n",
        "   technologiques (« Pour une intelligence artificielle maîtrisée, utile et démystifiée », 29 mars 2017), pour qui ce côté \n",
        "   « boîte noire » explique des angoisses infondées. Ethiquement, se fonder sur l’IA pour des tâches critiques sans \n",
        "   bien comprendre le comment...'''\n"
      ],
      "metadata": {
        "id": "chqZYkyNl0Rc"
      },
      "execution_count": 32,
      "outputs": []
    },
    {
      "cell_type": "code",
      "source": [
        "from polyglot.text import Text\n",
        "\n",
        "# Create a new text object using Polyglot's Text class: txt\n",
        "txt = Text(article)\n",
        "# Print each of the entities found\n",
        "for ent in txt.entities:\n",
        "    print(ent)\n",
        "    \n",
        "# Print the type of ent\n",
        "print(type(ent))"
      ],
      "metadata": {
        "colab": {
          "base_uri": "https://localhost:8080/"
        },
        "id": "l8omjlaTskHQ",
        "outputId": "7af5f818-3ec1-450b-81a0-ccb5f7c10f28"
      },
      "execution_count": 33,
      "outputs": [
        {
          "output_type": "stream",
          "name": "stdout",
          "text": [
            "['Charles', 'Cuvelliez']\n",
            "['Charles', 'Cuvelliez']\n",
            "['Bruxelles']\n",
            "['l’IA']\n",
            "['Julien', 'Maldonato']\n",
            "['Deloitte']\n",
            "['Ethiquement']\n",
            "['l’IA']\n",
            "['.']\n",
            "<class 'polyglot.text.Chunk'>\n"
          ]
        }
      ]
    },
    {
      "cell_type": "code",
      "source": [
        "# Create the list of tuples: entities\n",
        "entities = [(ent.tag, ' '.join(ent)) for ent in txt.entities]\n",
        "\n",
        "# Print entities\n",
        "print(entities)"
      ],
      "metadata": {
        "colab": {
          "base_uri": "https://localhost:8080/"
        },
        "id": "5A_xwDu8lMxi",
        "outputId": "675f6d01-4778-4019-c419-43cc798b2f5a"
      },
      "execution_count": 34,
      "outputs": [
        {
          "output_type": "stream",
          "name": "stdout",
          "text": [
            "[('I-PER', 'Charles Cuvelliez'), ('I-PER', 'Charles Cuvelliez'), ('I-ORG', 'Bruxelles'), ('I-PER', 'l’IA'), ('I-PER', 'Julien Maldonato'), ('I-ORG', 'Deloitte'), ('I-PER', 'Ethiquement'), ('I-LOC', 'l’IA'), ('I-PER', '.')]\n"
          ]
        }
      ]
    },
    {
      "cell_type": "markdown",
      "source": [
        "### Spanish NER with polyglot\n"
      ],
      "metadata": {
        "id": "ppa4tHljoB65"
      }
    },
    {
      "cell_type": "code",
      "source": [
        "%%bash\n",
        "polyglot download embeddings2.es\n",
        "polyglot download ner2.es"
      ],
      "metadata": {
        "colab": {
          "base_uri": "https://localhost:8080/"
        },
        "id": "huX1hFKUp5HX",
        "outputId": "36624b50-9485-4f99-9f28-057d9e1badce"
      },
      "execution_count": 38,
      "outputs": [
        {
          "output_type": "stream",
          "name": "stdout",
          "text": [
            "[polyglot_data] Downloading package embeddings2.es to\n",
            "[polyglot_data]     /root/polyglot_data...\n",
            "[polyglot_data] Downloading package ner2.es to /root/polyglot_data...\n"
          ]
        }
      ]
    },
    {
      "cell_type": "code",
      "source": [
        "article = '''Lina del Castillo es profesora en el Instituto de Estudios Latinoamericanos \n",
        "Teresa Lozano Long (LLILAS) y el Departamento de Historia de la Universidad de Texas en Austin. \n",
        "Ella será la moderadora del panel “Los Mundos Políticos de Gabriel García Márquez” este viernes, \n",
        "Oct. 30, en el simposio Gabriel García Márquez: Vida y Legado.\n",
        "LIna del Castillo\n",
        "Actualmente, sus investigaciones abarcan la intersección de cartografía, disputas a las demandas de tierra y recursos,\n",
        "y la formación del n...el tren de medianoche que lleva a miles y miles de cadáveres uno encima del otro como tantos racimos del banano \n",
        "que acabarán tirados al mar. \n",
        "Ningún recuento periodístico podría provocar nuestra imaginación y nuestra memoria como este relato de García Márquez.\n",
        "Contenido Relacionado\n",
        "Lea más artículos sobre el archivo de Gabriel García Márquez\n",
        "Reciba mensualmente las últimas noticias e información del Harry Ransom Center con eNews, nuestro correo electrónico mensual. ¡Suscríbase hoy!'''\n",
        "\n",
        "txt = Text(article)"
      ],
      "metadata": {
        "id": "cWzrZcf0pcCF"
      },
      "execution_count": 39,
      "outputs": []
    },
    {
      "cell_type": "code",
      "source": [
        "# Initialize the count variable: count\n",
        "count = 0\n",
        "\n",
        "# Iterate over all the entities\n",
        "for ent in txt.entities:\n",
        "    # Check whether the entity contains 'Márquez' or 'Gabo'\n",
        "    if \"Márquez\" in ent or \"Gabo\" in ent :\n",
        "        # Increment count\n",
        "        count += 1\n",
        "\n",
        "# Print count\n",
        "print(count)\n",
        "\n",
        "# Calculate the percentage of entities that refer to \"Gabo\": percentage\n",
        "percentage = count / len(txt.entities)\n",
        "print(percentage)\n"
      ],
      "metadata": {
        "colab": {
          "base_uri": "https://localhost:8080/"
        },
        "id": "9G7Yg8SJnyZc",
        "outputId": "631a8c3f-c0d3-4af4-806f-3c82607fe197"
      },
      "execution_count": 40,
      "outputs": [
        {
          "output_type": "stream",
          "name": "stdout",
          "text": [
            "4\n",
            "0.26666666666666666\n"
          ]
        }
      ]
    },
    {
      "cell_type": "markdown",
      "source": [
        "In the for loop, If you iterated over txt instead of txt.entities. This will cause an error because txt is not iterable."
      ],
      "metadata": {
        "id": "A0JhaMKgonm7"
      }
    },
    {
      "cell_type": "code",
      "source": [],
      "metadata": {
        "id": "ojJSUy8UomUY"
      },
      "execution_count": null,
      "outputs": []
    }
  ]
}